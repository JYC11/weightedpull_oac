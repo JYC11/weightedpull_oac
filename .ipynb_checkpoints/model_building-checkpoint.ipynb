{
 "cells": [
  {
   "cell_type": "code",
   "execution_count": 1,
   "id": "desperate-finish",
   "metadata": {},
   "outputs": [],
   "source": [
    "import pandas as pd\n",
    "import statsmodels.api as sm\n",
    "from sklearn.model_selection import train_test_split\n",
    "from sklearn.linear_model import LogisticRegression\n",
    "from sklearn.metrics import classification_report, confusion_matrix\n",
    "import matplotlib.pyplot as plt\n",
    "import numpy as np"
   ]
  },
  {
   "cell_type": "markdown",
   "id": "artificial-administrator",
   "metadata": {},
   "source": [
    "### I've thought of mainly two ways to build models for this: Logistic and Classfication\n",
    "### 1. Logistic:\n",
    "#### Split oac ability into: can do oac and can't do oac > simple logistic\n",
    "#### Split oac ability into 4: multiple oac, single oac, almost oac, no oac > ordinal logistic regression\n",
    "#### Ordinal logistic regression seems to be supported on R from what I've found\n",
    "#### I could assign a 'score' for each 4 levels\n",
    "#### multiple oac - score of 4\n",
    "#### single oac - score of 3\n",
    "#### almost oac - score of 2\n",
    "#### no oac - score of 1\n",
    "#### and then I could do ordinal regression instead instead of ordinal logistic regression\n",
    "#### OR I could just use R and do ordinal logistic regression\n",
    "#### Time to go watch statquest again\n",
    "\n",
    "### 2. Classification\n",
    "#### SVM and Decision tree. Haven't given too much thought about these yet \n",
    "#### but these algorithms came to mind first\n"
   ]
  },
  {
   "cell_type": "code",
   "execution_count": 2,
   "id": "international-perfume",
   "metadata": {},
   "outputs": [],
   "source": [
    "raw = pd.read_excel(\"no_dummies_v2.xlsx\")"
   ]
  },
  {
   "cell_type": "code",
   "execution_count": 3,
   "id": "identical-figure",
   "metadata": {},
   "outputs": [
    {
     "name": "stdout",
     "output_type": "stream",
     "text": [
      "<class 'pandas.core.frame.DataFrame'>\n",
      "RangeIndex: 1127 entries, 0 to 1126\n",
      "Data columns (total 14 columns):\n",
      " #   Column                    Non-Null Count  Dtype  \n",
      "---  ------                    --------------  -----  \n",
      " 0   height                    1127 non-null   float64\n",
      " 1   weight                    1127 non-null   float64\n",
      " 2   upper_arm_length          459 non-null    float64\n",
      " 3   pull_style                1127 non-null   object \n",
      " 4   weight_x_repmax           1127 non-null   object \n",
      " 5   orm                       987 non-null    float64\n",
      " 6   orm_as_%                  987 non-null    float64\n",
      " 7   orm_bins                  987 non-null    object \n",
      " 8   max_pulls                 998 non-null    float64\n",
      " 9   oac_ability               1127 non-null   object \n",
      " 10  best_contribution_to_oac  946 non-null    object \n",
      " 11  specific_training_time    1117 non-null   object \n",
      " 12  sessions_per_week         860 non-null    float64\n",
      " 13  years_of_training         870 non-null    float64\n",
      "dtypes: float64(8), object(6)\n",
      "memory usage: 123.4+ KB\n"
     ]
    }
   ],
   "source": [
    "raw.info()"
   ]
  },
  {
   "cell_type": "code",
   "execution_count": 5,
   "id": "thick-maple",
   "metadata": {},
   "outputs": [
    {
     "data": {
      "text/plain": [
       "array(['one-negative', 'neither', 'multiple-negatives/bad-form',\n",
       "       'never-tried', 'oap', 'both', 'oac', 'multiple-oap',\n",
       "       'multiple-both', 'multiple-oac'], dtype=object)"
      ]
     },
     "execution_count": 5,
     "metadata": {},
     "output_type": "execute_result"
    }
   ],
   "source": [
    "raw[\"oac_ability\"].unique()"
   ]
  },
  {
   "cell_type": "code",
   "execution_count": 13,
   "id": "nasty-collaboration",
   "metadata": {},
   "outputs": [],
   "source": [
    "def yesno(x):\n",
    "    ability = x[\"oac_ability\"]\n",
    "    yes = ['oap','oac','both','multiple-both','multiple-oap','multiple-oac']\n",
    "    if ability in yes:\n",
    "        return 1\n",
    "    else:\n",
    "        return 0"
   ]
  },
  {
   "cell_type": "code",
   "execution_count": 14,
   "id": "automatic-keyboard",
   "metadata": {},
   "outputs": [],
   "source": [
    "raw[\"oac_yesno\"] = raw.apply(yesno,axis=1)"
   ]
  },
  {
   "cell_type": "code",
   "execution_count": 9,
   "id": "compact-plenty",
   "metadata": {},
   "outputs": [],
   "source": [
    "def fourlevels(x):\n",
    "    ability = x[\"oac_ability\"]\n",
    "    four = ['multiple-oap','multiple-oac','multiple-both']\n",
    "    three = ['oap','oac','both']\n",
    "    two = ['one-negative','multiple-negatives/bad-form']\n",
    "    if ability in four:\n",
    "        return 4\n",
    "    elif ability in three:\n",
    "        return 3\n",
    "    elif ability in two:\n",
    "        return 2\n",
    "    else:\n",
    "        return 1"
   ]
  },
  {
   "cell_type": "code",
   "execution_count": 10,
   "id": "ongoing-prefix",
   "metadata": {},
   "outputs": [],
   "source": [
    "raw[\"oac_ability_score\"] = raw.apply(fourlevels,axis=1)"
   ]
  },
  {
   "cell_type": "code",
   "execution_count": 15,
   "id": "recorded-ranking",
   "metadata": {},
   "outputs": [
    {
     "data": {
      "text/html": [
       "<div>\n",
       "<style scoped>\n",
       "    .dataframe tbody tr th:only-of-type {\n",
       "        vertical-align: middle;\n",
       "    }\n",
       "\n",
       "    .dataframe tbody tr th {\n",
       "        vertical-align: top;\n",
       "    }\n",
       "\n",
       "    .dataframe thead th {\n",
       "        text-align: right;\n",
       "    }\n",
       "</style>\n",
       "<table border=\"1\" class=\"dataframe\">\n",
       "  <thead>\n",
       "    <tr style=\"text-align: right;\">\n",
       "      <th></th>\n",
       "      <th>height</th>\n",
       "      <th>weight</th>\n",
       "      <th>upper_arm_length</th>\n",
       "      <th>pull_style</th>\n",
       "      <th>weight_x_repmax</th>\n",
       "      <th>orm</th>\n",
       "      <th>orm_as_%</th>\n",
       "      <th>orm_bins</th>\n",
       "      <th>max_pulls</th>\n",
       "      <th>oac_ability</th>\n",
       "      <th>best_contribution_to_oac</th>\n",
       "      <th>specific_training_time</th>\n",
       "      <th>sessions_per_week</th>\n",
       "      <th>years_of_training</th>\n",
       "      <th>oac_yesno</th>\n",
       "      <th>oac_ability_score</th>\n",
       "    </tr>\n",
       "  </thead>\n",
       "  <tbody>\n",
       "    <tr>\n",
       "      <th>0</th>\n",
       "      <td>180.0</td>\n",
       "      <td>84.0</td>\n",
       "      <td>38.0</td>\n",
       "      <td>wpu</td>\n",
       "      <td>51x1</td>\n",
       "      <td>51.0</td>\n",
       "      <td>60.714286</td>\n",
       "      <td>60~79%</td>\n",
       "      <td>NaN</td>\n",
       "      <td>one-negative</td>\n",
       "      <td>pulley,high-volume,partials</td>\n",
       "      <td>2/2</td>\n",
       "      <td>2.0</td>\n",
       "      <td>2.0</td>\n",
       "      <td>0</td>\n",
       "      <td>2</td>\n",
       "    </tr>\n",
       "    <tr>\n",
       "      <th>1</th>\n",
       "      <td>192.0</td>\n",
       "      <td>78.0</td>\n",
       "      <td>NaN</td>\n",
       "      <td>none</td>\n",
       "      <td>0x0</td>\n",
       "      <td>NaN</td>\n",
       "      <td>NaN</td>\n",
       "      <td>NaN</td>\n",
       "      <td>12.0</td>\n",
       "      <td>neither</td>\n",
       "      <td>NaN</td>\n",
       "      <td>0/0</td>\n",
       "      <td>NaN</td>\n",
       "      <td>NaN</td>\n",
       "      <td>0</td>\n",
       "      <td>1</td>\n",
       "    </tr>\n",
       "    <tr>\n",
       "      <th>2</th>\n",
       "      <td>168.0</td>\n",
       "      <td>55.0</td>\n",
       "      <td>NaN</td>\n",
       "      <td>wpu</td>\n",
       "      <td>75x1</td>\n",
       "      <td>75.0</td>\n",
       "      <td>136.363636</td>\n",
       "      <td>120~139%</td>\n",
       "      <td>18.0</td>\n",
       "      <td>multiple-negatives/bad-form</td>\n",
       "      <td>climbers-approach,eccentrics,band</td>\n",
       "      <td>2/1</td>\n",
       "      <td>2.0</td>\n",
       "      <td>1.0</td>\n",
       "      <td>0</td>\n",
       "      <td>2</td>\n",
       "    </tr>\n",
       "    <tr>\n",
       "      <th>3</th>\n",
       "      <td>190.0</td>\n",
       "      <td>80.0</td>\n",
       "      <td>14.0</td>\n",
       "      <td>wpu</td>\n",
       "      <td>25x1</td>\n",
       "      <td>25.0</td>\n",
       "      <td>31.250000</td>\n",
       "      <td>20~39%</td>\n",
       "      <td>10.0</td>\n",
       "      <td>neither</td>\n",
       "      <td>weighted-pulls</td>\n",
       "      <td>2/1</td>\n",
       "      <td>2.0</td>\n",
       "      <td>1.0</td>\n",
       "      <td>0</td>\n",
       "      <td>1</td>\n",
       "    </tr>\n",
       "    <tr>\n",
       "      <th>4</th>\n",
       "      <td>172.0</td>\n",
       "      <td>68.0</td>\n",
       "      <td>NaN</td>\n",
       "      <td>wcu</td>\n",
       "      <td>40x2</td>\n",
       "      <td>47.2</td>\n",
       "      <td>69.411765</td>\n",
       "      <td>60~79%</td>\n",
       "      <td>18.0</td>\n",
       "      <td>neither</td>\n",
       "      <td>NaN</td>\n",
       "      <td>1/0</td>\n",
       "      <td>1.0</td>\n",
       "      <td>NaN</td>\n",
       "      <td>0</td>\n",
       "      <td>1</td>\n",
       "    </tr>\n",
       "  </tbody>\n",
       "</table>\n",
       "</div>"
      ],
      "text/plain": [
       "   height  weight  upper_arm_length pull_style weight_x_repmax   orm  \\\n",
       "0   180.0    84.0              38.0        wpu            51x1  51.0   \n",
       "1   192.0    78.0               NaN       none             0x0   NaN   \n",
       "2   168.0    55.0               NaN        wpu            75x1  75.0   \n",
       "3   190.0    80.0              14.0        wpu            25x1  25.0   \n",
       "4   172.0    68.0               NaN        wcu            40x2  47.2   \n",
       "\n",
       "     orm_as_%  orm_bins  max_pulls                  oac_ability  \\\n",
       "0   60.714286    60~79%        NaN                 one-negative   \n",
       "1         NaN       NaN       12.0                      neither   \n",
       "2  136.363636  120~139%       18.0  multiple-negatives/bad-form   \n",
       "3   31.250000    20~39%       10.0                      neither   \n",
       "4   69.411765    60~79%       18.0                      neither   \n",
       "\n",
       "            best_contribution_to_oac specific_training_time  \\\n",
       "0        pulley,high-volume,partials                    2/2   \n",
       "1                                NaN                    0/0   \n",
       "2  climbers-approach,eccentrics,band                    2/1   \n",
       "3                     weighted-pulls                    2/1   \n",
       "4                                NaN                    1/0   \n",
       "\n",
       "   sessions_per_week  years_of_training  oac_yesno  oac_ability_score  \n",
       "0                2.0                2.0          0                  2  \n",
       "1                NaN                NaN          0                  1  \n",
       "2                2.0                1.0          0                  2  \n",
       "3                2.0                1.0          0                  1  \n",
       "4                1.0                NaN          0                  1  "
      ]
     },
     "execution_count": 15,
     "metadata": {},
     "output_type": "execute_result"
    }
   ],
   "source": [
    "raw.head()"
   ]
  },
  {
   "cell_type": "code",
   "execution_count": null,
   "id": "vanilla-dialogue",
   "metadata": {},
   "outputs": [],
   "source": []
  },
  {
   "cell_type": "code",
   "execution_count": null,
   "id": "floral-selling",
   "metadata": {},
   "outputs": [],
   "source": []
  },
  {
   "cell_type": "code",
   "execution_count": null,
   "id": "amazing-atlanta",
   "metadata": {},
   "outputs": [],
   "source": []
  },
  {
   "cell_type": "code",
   "execution_count": null,
   "id": "enhanced-journalist",
   "metadata": {},
   "outputs": [],
   "source": []
  },
  {
   "cell_type": "code",
   "execution_count": null,
   "id": "dominican-galaxy",
   "metadata": {},
   "outputs": [],
   "source": []
  },
  {
   "cell_type": "code",
   "execution_count": null,
   "id": "interpreted-myrtle",
   "metadata": {},
   "outputs": [],
   "source": []
  },
  {
   "cell_type": "code",
   "execution_count": null,
   "id": "abandoned-addition",
   "metadata": {},
   "outputs": [],
   "source": []
  },
  {
   "cell_type": "code",
   "execution_count": null,
   "id": "superb-essay",
   "metadata": {},
   "outputs": [],
   "source": []
  },
  {
   "cell_type": "code",
   "execution_count": null,
   "id": "protecting-slave",
   "metadata": {},
   "outputs": [],
   "source": []
  },
  {
   "cell_type": "code",
   "execution_count": null,
   "id": "electoral-utility",
   "metadata": {},
   "outputs": [],
   "source": []
  },
  {
   "cell_type": "code",
   "execution_count": null,
   "id": "accepting-environment",
   "metadata": {},
   "outputs": [],
   "source": []
  },
  {
   "cell_type": "code",
   "execution_count": null,
   "id": "dated-double",
   "metadata": {},
   "outputs": [],
   "source": []
  },
  {
   "cell_type": "code",
   "execution_count": null,
   "id": "civic-exhibition",
   "metadata": {},
   "outputs": [],
   "source": []
  },
  {
   "cell_type": "code",
   "execution_count": null,
   "id": "continental-shelf",
   "metadata": {},
   "outputs": [],
   "source": []
  },
  {
   "cell_type": "code",
   "execution_count": null,
   "id": "opened-attitude",
   "metadata": {},
   "outputs": [],
   "source": []
  },
  {
   "cell_type": "code",
   "execution_count": null,
   "id": "vietnamese-clinic",
   "metadata": {},
   "outputs": [],
   "source": []
  },
  {
   "cell_type": "code",
   "execution_count": null,
   "id": "likely-favorite",
   "metadata": {},
   "outputs": [],
   "source": []
  },
  {
   "cell_type": "code",
   "execution_count": null,
   "id": "terminal-prefix",
   "metadata": {},
   "outputs": [],
   "source": []
  },
  {
   "cell_type": "code",
   "execution_count": null,
   "id": "bearing-modification",
   "metadata": {},
   "outputs": [],
   "source": []
  }
 ],
 "metadata": {
  "kernelspec": {
   "display_name": "Python 3",
   "language": "python",
   "name": "python3"
  },
  "language_info": {
   "codemirror_mode": {
    "name": "ipython",
    "version": 3
   },
   "file_extension": ".py",
   "mimetype": "text/x-python",
   "name": "python",
   "nbconvert_exporter": "python",
   "pygments_lexer": "ipython3",
   "version": "3.8.9"
  }
 },
 "nbformat": 4,
 "nbformat_minor": 5
}
